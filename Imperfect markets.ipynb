{
 "cells": [
  {
   "cell_type": "markdown",
   "metadata": {},
   "source": [
    "# IMPERFECT MARKETS - Introduction of external forces in the supply/demand market \n"
   ]
  },
  {
   "cell_type": "code",
   "execution_count": 67,
   "metadata": {},
   "outputs": [],
   "source": [
    "# import packages\n",
    "\n",
    "import numpy as np\n",
    "from IPython.display import Image\n"
   ]
  },
  {
   "cell_type": "markdown",
   "metadata": {},
   "source": [
    "# Taxation "
   ]
  },
  {
   "cell_type": "markdown",
   "metadata": {},
   "source": [
    "Economic efficiency is the idea that it is impossible to improve the situation of one party without imposing a cost on another.\n",
    "\n",
    "When taxes are imposed in the market, this has an impact on the supply-demand equilibrium (efficient price and quantity)\n",
    "Taxation influences economic behaviour and distribution of resources such as the demand or supply of a product. \n",
    "Buyers and sellers share the burden depending on elasticity of demand/surply This project seeks cover the following.\n",
    "\n",
    "\n",
    "\n",
    "* Government imposed taxes \n",
    " * It does not matter which side of the market the tax is legally applied, the economic result would hold as long as the total amount of tax is the same.\n",
    "* Government Subsideceis \n",
    "* price floors\n",
    "* price ceiling \n",
    "\n",
    "This system takes in the variables of the demand and supply curves \n",
    "\n",
    "* Consumer surplus is the gap between the price that consumers are willing to pay—based on their preferences—and the market equilibrium price.\n",
    "* Producer surplus is the gap between the price for which producers are willing to sell a product—based on their costs—and the market equilibrium price.\n",
    "* Social surplus is the sum of consumer surplus and producer surplus. Total surplus is larger at the equilibrium quantity and price than it will be at any other quantity and price.\n",
    "* Deadweight loss is loss in total surplus that occurs when the economy produces at an inefficient quantity.\n",
    "\n",
    "\n",
    "![](taxes-.jpg)"
   ]
  },
  {
   "cell_type": "code",
   "execution_count": 68,
   "metadata": {},
   "outputs": [
    {
     "name": "stdout",
     "output_type": "stream",
     "text": [
      "enter demand curve intercept: 100\n",
      "enter demand curve slope: -0.01\n",
      "enter supply curve intercept: 0\n",
      "enter supply curve slope: 0.01\n",
      "tax amount imposed on supplier: $ 60\n",
      "variable array: \n",
      " [[ 1.    0.01]\n",
      " [ 1.   -0.01]]\n",
      "intercept array: \n",
      " [100.   0.]\n"
     ]
    }
   ],
   "source": [
    "# prompt user to enter variables of the demand supply equations. These are then converted to arrays containing the \n",
    "# intercept and Price and quantity variables \n",
    "# prints arrays containing this data\n",
    "\n",
    "d_intercept=float(input(\"enter demand curve intercept: \"))\n",
    "d_slope=float(input(\"enter demand curve slope: \"))\n",
    "\n",
    "s_intercept=float(input(\"enter supply curve intercept: \"))\n",
    "s_slope=float(input(\"enter supply curve slope: \"))\n",
    "\n",
    "tax_val=float(input(\"tax amount imposed on supplier: $ \"))\n",
    "\n",
    "P_variables= [1,1]\n",
    "intercept_variables=[d_intercept,s_intercept]\n",
    "Q_variables=[d_slope,s_slope]\n",
    "Q_variables=[ -x for x in Q_variables]\n",
    "demand_array=[1,Q_variables[0]]\n",
    "supply_array=[1,Q_variables[1]]\n",
    "array1=np.array([demand_array,supply_array])\n",
    "array2=np.array(intercept_variables)\n",
    "\n",
    "print(\"variable array: \\n {}\".format(array1))\n",
    "print(\"intercept array: \\n {}\".format(array2))\n"
   ]
  },
  {
   "cell_type": "code",
   "execution_count": 70,
   "metadata": {},
   "outputs": [
    {
     "name": "stdout",
     "output_type": "stream",
     "text": [
      "efficicient price:$ 50.0\n",
      "efficicient quantity: 5000.0\n",
      "consumer suplus:$ 125000.0\n",
      "producer surplus:$ 125000.0\n"
     ]
    }
   ],
   "source": [
    "# Solves for the efficient equilibrium value of price and quantity at a point where supply= demand in the absense of \n",
    "# external market forces such as taxes. \n",
    "# solves the producer and consumer surplus in these conditions \n",
    "\n",
    "efficient_solution = np.linalg.solve(array1,array2)\n",
    "print(\"efficicient price:$ {}\".format(efficient_solution[0]))\n",
    "print(\"efficicient quantity: {}\".format(efficient_solution[1]))\n",
    "consumer_surplus=0.5*abs(intercept_variables[0]-efficient_solution[0])*efficient_solution[1]\n",
    "producer_surplus =0.5*abs(intercept_variables[1]-efficient_solution[0])*efficient_solution[1]\n",
    "print(\"consumer suplus:$ {}\".format(consumer_surplus))\n",
    "print(\"producer surplus:$ {}\".format(producer_surplus))"
   ]
  },
  {
   "cell_type": "code",
   "execution_count": 71,
   "metadata": {},
   "outputs": [
    {
     "data": {
      "text/plain": [
       "array([100.,  60.])"
      ]
     },
     "execution_count": 71,
     "metadata": {},
     "output_type": "execute_result"
    }
   ],
   "source": [
    "# makes adjustments in the arrays to account for the tax imposed.\n",
    "\n",
    "new_s_intercept=tax_val+s_intercept\n",
    "new_s_intercept\n",
    "array3=np.array([d_intercept,new_s_intercept])\n",
    "array3"
   ]
  },
  {
   "cell_type": "code",
   "execution_count": 25,
   "metadata": {},
   "outputs": [
    {
     "name": "stdout",
     "output_type": "stream",
     "text": [
      "new solution: \n",
      "Consumer price:$ 80.0\n",
      "Consumer quantity sold: 2000.0\n",
      "price received by producer :$ 20.0\n"
     ]
    }
   ],
   "source": [
    "# gives a solution to the new equlibrium with the tax imposed. The consumer and producer prices are different as a \n",
    "# result and the quantity sold in the market changes \n",
    "\n",
    "tax_solution = np.linalg.solve(array1,array3)\n",
    "producer_price=s_slope*tax_solution[1]+s_intercept\n",
    "print('new solution: \\nConsumer price:$ {}'.format(tax_solution[0]))\n",
    "print('Consumer quantity sold: {}'.format(tax_solution[1]))\n",
    "print('price received by producer :$ {}'.format(producer_price))"
   ]
  },
  {
   "cell_type": "code",
   "execution_count": 12,
   "metadata": {},
   "outputs": [
    {
     "name": "stdout",
     "output_type": "stream",
     "text": [
      "Goverment_tax_revenue:$ 120000.00 \n",
      " \n",
      "new producer_surplus:$ 20000.00\n",
      "producer_tax_incidence:$ 60000.00 \n",
      " \n",
      "new consumer_surplus:$ 20000.00\n",
      "consumer_tax_incidence:$ 60000.00 \n",
      " \n",
      "deadweight_loss:$ 90000.00\n"
     ]
    }
   ],
   "source": [
    "# solutions to all the changes due to taxes. \n",
    "\n",
    "Goverment_tax_revenue= abs(tax_solution[1]-0)*abs(tax_solution[0]-producer_price)\n",
    "\n",
    "producer_surplus= (1/2)*abs(intercept_variables[1]-producer_price)*tax_solution[1]\n",
    "producer_tax_incidence=abs(efficient_solution[0]-producer_price)*tax_solution[1]\n",
    "\n",
    "consumer_surplus= 1/2*abs(intercept_variables[0]-tax_solution[0])*tax_solution[1]\n",
    "consumer_tax_incidence=abs(efficient_solution[0]-tax_solution[0])*tax_solution[1]\n",
    "\n",
    "deadweight_loss=1/2*abs(tax_solution[0]-producer_price)*abs(efficient_solution[1]-tax_solution[1])\n",
    "\n",
    "print('Goverment_tax_revenue:$ {:.2f} \\n '.format(Goverment_tax_revenue))\n",
    "print('new producer_surplus:$ {:.2f}'.format(producer_surplus))\n",
    "print('producer_tax_incidence:$ {:.2f} \\n '.format(producer_tax_incidence))\n",
    "print('new consumer_surplus:$ {:.2f}'.format(consumer_surplus))\n",
    "print('consumer_tax_incidence:$ {:.2f} \\n '.format(consumer_tax_incidence))\n",
    "print('deadweight_loss:$ {:.2f}'.format(deadweight_loss))\n"
   ]
  },
  {
   "cell_type": "markdown",
   "metadata": {},
   "source": [
    "## price floor "
   ]
  },
  {
   "cell_type": "markdown",
   "metadata": {},
   "source": [
    "A price floor is the lowest legal price a product can be sold at. Price floors are often used by the government to prevent prices of products from being too low. It is often used in the labour market (minimum wage). This leads to  an inefficient market equilibrium. The demand at the floor price is lower than the supply at this proce. As with the case below, the goverment can abosorp the difference between what is demanded and what is supplied in the market. There is the social loss, deadweight loss as well. \n",
    "![](price-floor_1_.jpg)"
   ]
  },
  {
   "cell_type": "code",
   "execution_count": 32,
   "metadata": {},
   "outputs": [
    {
     "name": "stdout",
     "output_type": "stream",
     "text": [
      " enter demand curve intercept: 100\n",
      " enter demand curve slope: -0.01\n",
      " enter supply curve intercept: 0\n",
      " enter supply curve slope: 0.01\n",
      " enter floor_price: 60\n"
     ]
    }
   ],
   "source": [
    "# prompt user to enter variables of the demand supply equations. These are then converted to arrays containing the \n",
    "# intercept and Price and quantity variables \n",
    "# prints arrays containing this data\n",
    "\n",
    "d_intercept=float(input(\" enter demand curve intercept: \"))\n",
    "d_slope=float(input(\" enter demand curve slope: \"))\n",
    "\n",
    "s_intercept=float(input(\" enter supply curve intercept: \"))\n",
    "s_slope=float(input(\" enter supply curve slope: \"))\n",
    "\n",
    "floor_price=float(input(\" enter floor_price: \"))"
   ]
  },
  {
   "cell_type": "code",
   "execution_count": 34,
   "metadata": {},
   "outputs": [
    {
     "name": "stdout",
     "output_type": "stream",
     "text": [
      "variable array: \n",
      " [[ 1.    0.01]\n",
      " [ 1.   -0.01]]\n",
      "intercept array: \n",
      " \n",
      " [100.   0.]\n",
      "efficicient price,quantity:[  50. 5000.]\n"
     ]
    }
   ],
   "source": [
    "# Solves for the efficient equilibrium value of price and quantity at a point where supply= demand the absence\n",
    "# of external market factors such as taxes abnd price floors\n",
    "\n",
    "P_variables= [1,1]\n",
    "intercept_variables=[d_intercept,s_intercept]\n",
    "Q_variables=[d_slope,s_slope]\n",
    "Q_variables=[ -x for x in Q_variables]\n",
    "demand_array=[1,Q_variables[0]]\n",
    "supply_array=[1,Q_variables[1]]\n",
    "array1=np.array([demand_array,supply_array])\n",
    "array2=np.array(intercept_variables)\n",
    "\n",
    "print(\"variable array: \\n {}\".format(array1))\n",
    "print(\"intercept array: \\n \\n {}\".format(array2))\n",
    "\n",
    "efficient_solution = np.linalg.solve(array1,array2)\n",
    "print(\"efficicient price,quantity:{}\".format(efficient_solution))\n"
   ]
  },
  {
   "cell_type": "code",
   "execution_count": 42,
   "metadata": {},
   "outputs": [
    {
     "name": "stdout",
     "output_type": "stream",
     "text": [
      "demand quantity: 4000.0\n",
      "supply quantity: 6000.0\n",
      "surplus supply abosrbed by the government: 2000.0 \n",
      "\n",
      "\n",
      "consumer surplus:$ 80000.0\n",
      "producer surplus:$ 160000.0\n",
      "deadweight loss:$ 10000.0\n"
     ]
    }
   ],
   "source": [
    "#calculating the new inefficient equilibrium . Calculating the consumer surplus, producer surplus and deadweight loss \n",
    "#of the market with the imposed price floor.\n",
    "demand_new_Q=(floor_price-intercept_variables[0])/(-Q_variables[0])\n",
    "supply_new_Q=(floor_price-intercept_variables[1])/(-Q_variables[1])\n",
    "surplus=abs(demand_new_Q-supply_new_Q)\n",
    "\n",
    "consumer_surplus= (1/2)*demand_new_Q*abs(intercept_variables[0]-floor_price)\n",
    "\n",
    "# interim supply price is the price producers would charge for the corresponding demand quantity of the price ceiling, \n",
    "# if this demand quantity wasn't due to price floor \n",
    "\n",
    "interim_supply_price=(demand_new_Q*(-Q_variables[1]))+intercept_variables[1]\n",
    "\n",
    "producer_surplus=0.5*demand_new_Q*(floor_price+(floor_price-interim_supply_price))\n",
    "\n",
    "deadweight_loss=0.5*(efficient_solution[1]-demand_new_Q)*(floor_price-interim_supply_price)\n",
    "\n",
    "print ('demand quantity: {}'.format(demand_new_Q))\n",
    "print('supply quantity: {}'.format(supply_new_Q))\n",
    "print(\"surplus supply abosrbed by the government: {} \\n\\n\".format(surplus))\n",
    "print('consumer surplus:$ {}'.format(consumer_surplus))\n",
    "print('producer surplus:$ {}'.format(producer_surplus))\n",
    "print('deadweight loss:$ {}'.format(deadweight_loss))\n"
   ]
  },
  {
   "cell_type": "markdown",
   "metadata": {},
   "source": [
    "## price ceiling "
   ]
  },
  {
   "cell_type": "markdown",
   "metadata": {},
   "source": [
    "A price ceiling is the opposite of a price floor. It is an imposed price control, or limit, on how high a price is charged for a product. Governments use price ceilings to protect consumers from conditions that could make products/services prohibitively expensive.\n",
    "![](price_ceiling.png)"
   ]
  },
  {
   "cell_type": "code",
   "execution_count": 43,
   "metadata": {},
   "outputs": [
    {
     "name": "stdout",
     "output_type": "stream",
     "text": [
      " enter demand curve intercept: 100\n",
      "enter demand curve slope: -0.01\n",
      " enter supply curve intercept: 0\n",
      " enter supply curve slope: 0.01\n",
      " enter floor_price:$ 20\n"
     ]
    }
   ],
   "source": [
    "# prompt user to enter variables of the demand supply equations. These are then converted to arrays containing the \n",
    "# intercept and Price and quantity variables \n",
    "# prints arrays containing this data\n",
    "\n",
    "d_intercept=float(input(\" enter demand curve intercept: \"))\n",
    "d_slope=float(input(\"enter demand curve slope: \"))\n",
    "\n",
    "s_intercept=float(input(\" enter supply curve intercept: \"))\n",
    "s_slope=float(input(\" enter supply curve slope: \"))\n",
    "\n",
    "price_ceiling=float(input(\" enter floor_price:$ \"))"
   ]
  },
  {
   "cell_type": "code",
   "execution_count": 44,
   "metadata": {},
   "outputs": [
    {
     "name": "stdout",
     "output_type": "stream",
     "text": [
      "efficicient price,quantity:[  50. 5000.]\n"
     ]
    }
   ],
   "source": [
    "# Solves for the efficient equilibrium value of price and quantity at a point where supply= demand the absence\n",
    "# of external market factors such as taxes abnd price ceilings \n",
    "\n",
    "\n",
    "efficient_solution = np.linalg.solve(array1,array2)\n",
    "print(\"efficicient price,quantity:{}\".format(efficient_solution))\n"
   ]
  },
  {
   "cell_type": "code",
   "execution_count": 59,
   "metadata": {},
   "outputs": [
    {
     "name": "stdout",
     "output_type": "stream",
     "text": [
      "demand quantity: 8000.0\n",
      "supply quantity: 2000.0\n",
      "\n",
      "consumer surplus: 140000.0\n",
      "producer surplus: 20000.0\n",
      "deadweight loss: 90000.0\n"
     ]
    }
   ],
   "source": [
    "# calculating the new inefficient equilibrium . Calculating the consumer surplus, producer surplus and deadweight loss \n",
    "# of the market with the imposed price floor.\n",
    "# at the same price, demand would have been=(price_ceiling-intercept_variables[0])/(-Q_variables[0]) \n",
    "\n",
    "supply_new_Q=(price_ceiling-intercept_variables[1])/(-Q_variables[1])\n",
    "#surplus=abs(demand_new_Q-supply_new_Q)\n",
    "\n",
    "producer_surplus= 0.5*supply_new_Q*price_ceiling\n",
    "\n",
    "#interim consumer price is the price producers would charge for the corresponding demand quantity of the price ceiling, \n",
    "#if this demand quantity wasn't due to price floor \n",
    "interim_consumer_price=(supply_new_Q*(-Q_variables[0]))+intercept_variables[0]\n",
    "\n",
    "consumer_surplus=0.5*supply_new_Q*(abs(intercept_variables[0]-price_ceiling)+abs(price_ceiling-interim_consumer_price))\n",
    "\n",
    "deadweight_loss=0.5*abs(efficient_solution[1]-supply_new_Q)*abs(price_ceiling-interim_consumer_price)\n",
    "\n",
    "print ('demand quantity: {}'.format(demand_new_Q))\n",
    "print('supply quantity: {}\\n'.format(supply_new_Q))\n",
    "print('consumer surplus: {}'.format(consumer_surplus))\n",
    "print('producer surplus: {}'.format(producer_surplus))\n",
    "print('deadweight loss: {}'.format(deadweight_loss))\n",
    "\n"
   ]
  }
 ],
 "metadata": {
  "kernelspec": {
   "display_name": "Python 3",
   "language": "python",
   "name": "python3"
  },
  "language_info": {
   "codemirror_mode": {
    "name": "ipython",
    "version": 3
   },
   "file_extension": ".py",
   "mimetype": "text/x-python",
   "name": "python",
   "nbconvert_exporter": "python",
   "pygments_lexer": "ipython3",
   "version": "3.7.6"
  }
 },
 "nbformat": 4,
 "nbformat_minor": 4
}
